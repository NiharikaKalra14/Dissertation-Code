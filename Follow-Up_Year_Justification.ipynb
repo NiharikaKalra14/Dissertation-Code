{
 "cells": [
  {
   "cell_type": "code",
   "execution_count": 1,
   "metadata": {},
   "outputs": [],
   "source": [
    "import pandas as pd\n",
    "import matplotlib.pyplot as plt\n",
    "\n",
    "# Load Part II\n",
    "df = pd.read_csv(\n",
    "    \"/rds/general/project/ppmi_verily/live/phenotypes2023/MDS_UPDRS_Part_II__Patient_Questionnaire.csv\",\n",
    "    parse_dates=[\"INFODT\"]\n",
    ")\n",
    "df = df.rename(columns={\"INFODT\": \"visit_date\"})\n",
    "\n",
    "# Compute baseline\n",
    "baseline = df.groupby('PATNO')['visit_date'].min().reset_index()\n",
    "baseline = baseline.rename(columns={'visit_date': 'baseline_date'})\n",
    "df = df.merge(baseline, on='PATNO')\n",
    "df['years_since_baseline'] = (df['visit_date'] - df['baseline_date']).dt.days / 365.25\n"
   ]
  },
  {
   "cell_type": "code",
   "execution_count": 2,
   "metadata": {},
   "outputs": [
    {
     "data": {
      "image/png": "[encoded data removed]",
      "text/plain": [
       "<Figure size 432x288 with 1 Axes>"
      ]
     },
     "metadata": {
      "needs_background": "light"
     },
     "output_type": "display_data"
    }
   ],
   "source": [
    "df['years_since_baseline'].hist(bins=30)\n",
    "plt.axvline(5, color='green', linestyle='--', label='5-Year')\n",
    "plt.axvline(7, color='red', linestyle='--', label='7-Year')\n",
    "plt.title(\"Distribution of Visit Times (Years Since Baseline)\")\n",
    "plt.xlabel(\"Years Since Baseline\")\n",
    "plt.ylabel(\"Number of Records\")\n",
    "plt.legend()\n",
    "plt.tight_layout()\n",
    "plt.show()\n"
   ]
  },
  {
   "cell_type": "code",
   "execution_count": 3,
   "metadata": {},
   "outputs": [
    {
     "name": "stdout",
     "output_type": "stream",
     "text": [
      "Visits near 5 years: 1591\n",
      "Visits near 7 years: 722\n"
     ]
    }
   ],
   "source": [
    "# Count visits within ±0.5 years of target points\n",
    "def count_near_year(df, year, tolerance=0.5):\n",
    "    return df[(df['years_since_baseline'] >= year - tolerance) & \n",
    "              (df['years_since_baseline'] <= year + tolerance)].shape[0]\n",
    "\n",
    "print(\"Visits near 5 years:\", count_near_year(df, 5))\n",
    "print(\"Visits near 7 years:\", count_near_year(df, 7))\n"
   ]
  },
  {
   "cell_type": "code",
   "execution_count": 4,
   "metadata": {},
   "outputs": [
    {
     "name": "stdout",
     "output_type": "stream",
     "text": [
      "Participants near 5 years: 1001\n",
      "Participants near 7 years: 583\n"
     ]
    }
   ],
   "source": [
    "def unique_patients_near_year(df, year, tolerance=0.5):\n",
    "    return df[(df['years_since_baseline'] >= year - tolerance) & \n",
    "              (df['years_since_baseline'] <= year + tolerance)]['PATNO'].nunique()\n",
    "\n",
    "print(\"Participants near 5 years:\", unique_patients_near_year(df, 5))\n",
    "print(\"Participants near 7 years:\", unique_patients_near_year(df, 7))\n"
   ]
  },
  {
   "cell_type": "code",
   "execution_count": null,
   "metadata": {},
   "outputs": [],
   "source": []
  }
 ],
 "metadata": {
  "kernelspec": {
   "display_name": "Python 3",
   "language": "python",
   "name": "python3"
  },
  "language_info": {
   "codemirror_mode": {
    "name": "ipython",
    "version": 3
   },
   "file_extension": ".py",
   "mimetype": "text/x-python",
   "name": "python",
   "nbconvert_exporter": "python",
   "pygments_lexer": "ipython3",
   "version": "3.6.8"
  }
 },
 "nbformat": 4,
 "nbformat_minor": 2
}
